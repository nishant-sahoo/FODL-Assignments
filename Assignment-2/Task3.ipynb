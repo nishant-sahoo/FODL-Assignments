{
 "cells": [
  {
   "cell_type": "markdown",
   "metadata": {},
   "source": [
    "**Task 3:** Image captioning using a CNN with NetVLAD as encoder and a single hidden \n",
    "layer RNN based decoder.\n"
   ]
  }
 ],
 "metadata": {
  "language_info": {
   "name": "python"
  }
 },
 "nbformat": 4,
 "nbformat_minor": 2
}
