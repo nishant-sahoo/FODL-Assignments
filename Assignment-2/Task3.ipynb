{
 "cells": [
  {
   "cell_type": "markdown",
   "metadata": {},
   "source": [
    "**Task 3:** Image captioning using a CNN with NetVLAD as encoder and a single hidden \n",
    "layer RNN based decoder.\n"
   ]
  },
  {
   "cell_type": "code",
   "execution_count": 1,
   "metadata": {},
   "outputs": [],
   "source": [
    "# **Task 3:** Image captioning using a CNN with NetVLAD as encoder and a single hidden \n",
    "# layer RNN based decoder.\n"
   ]
  },
  {
   "cell_type": "code",
   "execution_count": 2,
   "metadata": {},
   "outputs": [],
   "source": [
    "import os\n",
    "import numpy as np\n",
    "import matplotlib.pyplot as plt\n",
    "from PIL import Image\n",
    "from tqdm import tqdm\n",
    "import torch\n",
    "import torch.nn as nn\n",
    "import torch.nn.functional as F\n",
    "from torchvision import models, transforms\n",
    "from torch.utils.data import Dataset, DataLoader\n",
    "from torch.nn.utils.rnn import pack_padded_sequence, pad_sequence\n",
    "import nltk\n",
    "from nltk.translate.bleu_score import sentence_bleu\n",
    "from nltk.translate.bleu_score import corpus_bleu\n",
    "from nltk.translate.bleu_score import SmoothingFunction\n",
    "from collections import Counter\n",
    "from itertools import chain\n"
   ]
  },
  {
   "cell_type": "code",
   "execution_count": 3,
   "metadata": {},
   "outputs": [],
   "source": [
    "device = torch.device('cuda' if torch.cuda.is_available() else 'cpu')"
   ]
  },
  {
   "cell_type": "code",
   "execution_count": 4,
   "metadata": {},
   "outputs": [],
   "source": [
    "# dataset structure:\n",
    "# ./dataset/captioning/Images/ - contains all images\n",
    "# ./dataset/captioning/image_names.txt - contains all image names that will be used for training. Rest of the images will be used for testing.\n",
    "# note that the order of image names in image_names.txt is random.\n",
    "# ./dataset/captioning/captions.txt - contains image names and 5 captions for each image.\n",
    "# example from captions.txt:\n",
    "# 1000268201_693b08cb0e.jpg#0\tA child in a pink dress is climbing up a set of stairs in an entry way .\n",
    "# 1000268201_693b08cb0e.jpg#1\tA girl going into a wooden building .\n",
    "# 1000268201_693b08cb0e.jpg#2\tA little girl climbing into a wooden playhouse .\n",
    "# 1000268201_693b08cb0e.jpg#3\tA little girl climbing the stairs to her playhouse .\n",
    "# 1000268201_693b08cb0e.jpg#4\tA little girl in a pink dress going into a wooden cabin .\n",
    "# 1001773457_577c3a7d70.jpg#0\tA black dog and a spotted dog are fighting\n",
    "# 1001773457_577c3a7d70.jpg#1\tA black dog and a tri-colored dog playing with each other on the road .\n",
    "# 1001773457_577c3a7d70.jpg#2\tA black dog and a white dog with brown spots are staring at each other in the street .\n",
    "# 1001773457_577c3a7d70.jpg#3\tTwo dogs of different breeds looking at each other on the road .\n",
    "# 1001773457_577c3a7d70.jpg#4\tTwo dogs on pavement moving toward each other .\n",
    "\n",
    "# again note that the order of image names in image_names.txt is random and not in the same order as in captions.txt.\n"
   ]
  },
  {
   "cell_type": "code",
   "execution_count": 5,
   "metadata": {},
   "outputs": [],
   "source": [
    "\n",
    "class ImageCaptioningDataset(Dataset):\n",
    "    def __init__(self, root_dir, captions_file, image_names_file, transform=None, split='train'):\n",
    "        \"\"\"\n",
    "        Args:\n",
    "            root_dir (string): Directory with all the images.\n",
    "            captions_file (string): Path to the captions file.\n",
    "            image_names_file (string): Path to the file with image names for training.\n",
    "            transform (callable, optional): Optional transform to be applied on an image.\n",
    "            split (string, optional): The dataset split, either 'train' or 'test'.\n",
    "        \"\"\"\n",
    "        self.root_dir = root_dir\n",
    "        self.transform = transform\n",
    "        self.split = split\n",
    "        self.images = []\n",
    "        self.captions = []\n",
    "        self.image_names = set()\n",
    "\n",
    "        # Load image names for training or testing\n",
    "        with open(image_names_file, 'r') as f:\n",
    "            for line in f:\n",
    "                self.image_names.add(line.strip())\n",
    "\n",
    "        # Load captions and associate them with images\n",
    "        with open(captions_file, 'r') as f:\n",
    "            for line in f:\n",
    "                image_name, caption = line.strip().split('\\t')\n",
    "                image_name = image_name.split('#')[0]\n",
    "                if (split == 'train' and image_name in self.image_names) or \\\n",
    "                   (split == 'test' and image_name not in self.image_names):\n",
    "                    self.images.append(image_name)\n",
    "                    self.captions.append(caption)\n",
    "\n",
    "    def __len__(self):\n",
    "        return len(self.images)\n",
    "\n",
    "    def __getitem__(self, idx):\n",
    "        image_name = self.images[idx]\n",
    "        image_path = os.path.join(self.root_dir, 'Images', image_name)\n",
    "        image = Image.open(image_path).convert('RGB')\n",
    "        if self.transform:\n",
    "            image = self.transform(image)\n",
    "        caption = self.captions[idx]\n",
    "        return image, caption"
   ]
  },
  {
   "cell_type": "code",
   "execution_count": 6,
   "metadata": {},
   "outputs": [
    {
     "name": "stderr",
     "output_type": "stream",
     "text": [
      "[nltk_data] Downloading package punkt to\n",
      "[nltk_data]     C:\\Users\\HP\\AppData\\Roaming\\nltk_data...\n",
      "[nltk_data]   Package punkt is already up-to-date!\n"
     ]
    }
   ],
   "source": [
    "nltk.download('punkt')\n",
    "\n",
    "class Vocabulary:\n",
    "    def __init__(self, freq_threshold):\n",
    "        # A counter to hold the frequency of each word\n",
    "        self.freq_threshold = freq_threshold\n",
    "        self.itos = {0: \"<PAD>\", 1: \"<SOS>\", 2: \"<EOS>\", 3: \"<UNK>\"}\n",
    "        self.stoi = {\"<PAD>\": 0, \"<SOS>\": 1, \"<EOS>\": 2, \"<UNK>\": 3}\n",
    "\n",
    "    def build_vocabulary(self, sentence_list):\n",
    "        frequencies = Counter(chain(*sentence_list))\n",
    "        # Only include words that appear at least freq_threshold times\n",
    "        self.itos.update({idx + 4: token for idx, (token, count) in enumerate(frequencies.items()) if count >= self.freq_threshold})\n",
    "        # Reverse the dictionary\n",
    "        self.stoi = {token: idx for idx, token in self.itos.items()}\n",
    "\n",
    "    def numericalize(self, text):\n",
    "        # Convert each token to its index; if it's not in the vocabulary, replace it with <UNK>\n",
    "        return [self.stoi[token] if token in self.stoi else self.stoi[\"<UNK>\"] for token in text]\n",
    "\n",
    "    def tokenize(self, text):\n",
    "        return nltk.tokenize.word_tokenize(text.lower())\n",
    "\n",
    "    def pad(self, numericalized_caption, max_length):\n",
    "        # Pad the numericalized caption to the max_length with the <PAD> token index\n",
    "        return numericalized_caption + ([self.stoi[\"<PAD>\"]] * (max_length - len(numericalized_caption)))\n"
   ]
  },
  {
   "cell_type": "code",
   "execution_count": 7,
   "metadata": {},
   "outputs": [],
   "source": [
    "# Define the NetVLAD layer\n",
    "class NetVLAD(nn.Module):\n",
    "    def __init__(self, num_clusters=2, dim=512, alpha=100.0, normalize_input=True):\n",
    "        \"\"\"\n",
    "        Initialize the NetVLAD layer.\n",
    "        \n",
    "        Parameters:\n",
    "        - num_clusters (int): The number of clusters to use.\n",
    "        - dim (int): The dimension of the descriptors.\n",
    "        - alpha (float): The parameter for controlling the soft assignment.\n",
    "        - normalize_input (bool): Whether to normalize the input features.\n",
    "        \"\"\"\n",
    "        super(NetVLAD, self).__init__()\n",
    "        self.num_clusters = num_clusters\n",
    "        self.dim = dim\n",
    "        self.alpha = alpha\n",
    "        self.normalize_input = normalize_input\n",
    "        \n",
    "        # Convolutional layer to compute soft assignment to clusters\n",
    "        self.conv = nn.Conv2d(dim, num_clusters, kernel_size=(1, 1), bias=True)\n",
    "        \n",
    "        # The centroids for each cluster\n",
    "        self.centroids = nn.Parameter(torch.rand(num_clusters, dim))\n",
    "        \n",
    "        # Initialize parameters\n",
    "        self._init_params()\n",
    "\n",
    "    def _init_params(self):\n",
    "        \"\"\"\n",
    "        Initialize the parameters of the convolutional layer and centroids.\n",
    "        \"\"\"\n",
    "        # Initialize the weights of the convolutional layer\n",
    "        self.conv.weight = nn.Parameter(\n",
    "            (2.0 * self.alpha * self.centroids).unsqueeze(-1).unsqueeze(-1)\n",
    "        )\n",
    "        # Initialize the biases of the convolutional layer\n",
    "        self.conv.bias = nn.Parameter(\n",
    "            - self.alpha * self.centroids.norm(dim=1)\n",
    "        )\n",
    "\n",
    "    def forward(self, x):\n",
    "        \"\"\"\n",
    "        Forward pass of the NetVLAD layer.\n",
    "        \n",
    "        Parameters:\n",
    "        - x (torch.Tensor): The input tensor with shape (N, C, H, W).\n",
    "        \n",
    "        Returns:\n",
    "        - vlad (torch.Tensor): The NetVLAD descriptor for the input.\n",
    "        \"\"\"\n",
    "        N, C = x.shape[:2]\n",
    "\n",
    "        # Normalize the input if required\n",
    "        if self.normalize_input:\n",
    "            x = F.normalize(x, p=2, dim=1)\n",
    "\n",
    "        # Compute soft assignment to clusters\n",
    "        soft_assign = self.conv(x).view(N, self.num_clusters, -1)\n",
    "        soft_assign = F.softmax(soft_assign, dim=1)\n",
    "\n",
    "        # Flatten the input tensor\n",
    "        x_flatten = x.view(N, C, -1)\n",
    "        \n",
    "        # Compute the residuals to each cluster centroid\n",
    "        residual = x_flatten.expand(self.num_clusters, -1, -1, -1).permute(1, 0, 2, 3) - \\\n",
    "            self.centroids.expand(x_flatten.size(-1), -1, -1).permute(1, 2, 0).unsqueeze(0)\n",
    "        residual *= soft_assign.unsqueeze(2)\n",
    "        \n",
    "        # Aggregate the residuals across all locations\n",
    "        vlad = residual.sum(dim=-1)\n",
    "\n",
    "        # Normalize the aggregated residuals\n",
    "        vlad = F.normalize(vlad, p=2, dim=2)\n",
    "        vlad = vlad.view(x.size(0), -1)\n",
    "        vlad = F.normalize(vlad, p=2, dim=1)\n",
    "\n",
    "        return vlad\n"
   ]
  },
  {
   "cell_type": "code",
   "execution_count": 8,
   "metadata": {},
   "outputs": [
    {
     "name": "stderr",
     "output_type": "stream",
     "text": [
      "c:\\Users\\HP\\AppData\\Local\\Programs\\Python\\Python310\\lib\\site-packages\\torchvision\\models\\_utils.py:208: UserWarning: The parameter 'pretrained' is deprecated since 0.13 and may be removed in the future, please use 'weights' instead.\n",
      "  warnings.warn(\n",
      "c:\\Users\\HP\\AppData\\Local\\Programs\\Python\\Python310\\lib\\site-packages\\torchvision\\models\\_utils.py:223: UserWarning: Arguments other than a weight enum or `None` for 'weights' are deprecated since 0.13 and may be removed in the future. The current behavior is equivalent to passing `weights=ResNet18_Weights.IMAGENET1K_V1`. You can also use `weights=ResNet18_Weights.DEFAULT` to get the most up-to-date weights.\n",
      "  warnings.warn(msg)\n"
     ]
    },
    {
     "name": "stdout",
     "output_type": "stream",
     "text": [
      "torch.Size([1, 512, 7, 7])\n"
     ]
    }
   ],
   "source": [
    "base_model = models.resnet18(pretrained=True)\n",
    "base_model = nn.Sequential(*list(base_model.children())[:-2])\n",
    "print(base_model(torch.randn(1, 3, 224, 224)).shape) # torch.Size([1, 512, 7, 7])"
   ]
  },
  {
   "cell_type": "code",
   "execution_count": 9,
   "metadata": {},
   "outputs": [],
   "source": [
    "# Define the Encoder\n",
    "class Encoder(nn.Module):\n",
    "    def __init__(self, num_clusters=2, dim=512):  # k = 2\n",
    "        super(Encoder, self).__init__()\n",
    "        self.base_model = models.resnet18(pretrained=True)\n",
    "        # Remove the last two layers (pooling and linear) from ResNet-18\n",
    "        self.base_model = nn.Sequential(*list(self.base_model.children())[:-2])\n",
    "        # Add NetVLAD layer\n",
    "        self.net_vlad = NetVLAD(num_clusters=num_clusters, dim=dim)\n",
    "\n",
    "    def forward(self, x):\n",
    "        # Pass the input through the base CNN model\n",
    "        x = self.base_model(x)\n",
    "        # Pass the CNN features through the NetVLAD layer\n",
    "        x = self.net_vlad(x)\n",
    "        return x\n"
   ]
  },
  {
   "cell_type": "code",
   "execution_count": 10,
   "metadata": {},
   "outputs": [],
   "source": [
    "class Decoder(nn.Module):\n",
    "    def __init__(self, input_size, hidden_size, vocab_size):\n",
    "        super(Decoder, self).__init__()\n",
    "        self.hidden_size = hidden_size\n",
    "        self.embedding = nn.Embedding(vocab_size, input_size)\n",
    "        self.rnn = nn.RNN(input_size, hidden_size, batch_first=True)\n",
    "        self.out = nn.Linear(hidden_size, vocab_size)\n",
    "\n",
    "    def forward(self, features, captions, lengths):\n",
    "        # Embed the input word indices\n",
    "        embeddings = self.embedding(captions)\n",
    "        # Concatenate the features from the encoder with the embeddings\n",
    "        embeddings = torch.cat((features.unsqueeze(1), embeddings), 1)\n",
    "        # Pack the padded sequence so that the RNN ignores the <PAD> tokens\n",
    "        packed = nn.utils.rnn.pack_padded_sequence(embeddings, lengths, batch_first=True)\n",
    "        # Pass the embeddings through the RNN \n",
    "        rnn_out, hidden = self.rnn(packed)\n",
    "        # Unpack the output \n",
    "        outputs, _ = nn.utils.rnn.pad_packed_sequence(rnn_out, batch_first=True)\n",
    "        # Predict the next word\n",
    "        outputs = self.out(outputs)\n",
    "        return outputs, hidden\n",
    "        # # Embed the input word indices\n",
    "        # embeddings = self.embedding(captions)\n",
    "        # # Concatenate the features from the encoder with the embeddings\n",
    "        # embeddings = torch.cat((features.unsqueeze(1), embeddings), 1)\n",
    "        # # Pass the embeddings through the RNN\n",
    "        # rnn_out, hidden = self.rnn(embeddings)\n",
    "        # # Predict the next word\n",
    "        # outputs = self.out(rnn_out)\n",
    "        # return outputs, hidden\n",
    "\n",
    "    def initHidden(self, batch_size, device):\n",
    "        return torch.zeros(1, batch_size, self.hidden_size).to(device)\n"
   ]
  },
  {
   "cell_type": "code",
   "execution_count": 11,
   "metadata": {},
   "outputs": [],
   "source": [
    "# Define the Image Captioning Model\n",
    "class ImageCaptioningModel(nn.Module):\n",
    "    def __init__(self, encoder, decoder):\n",
    "        \"\"\"\n",
    "        Initialize the Image Captioning Model with an encoder and a decoder.\n",
    "        \n",
    "        Parameters:\n",
    "        - encoder (nn.Module): The encoder model that extracts features from images.\n",
    "        - decoder (nn.Module): The decoder model that generates captions from image features.\n",
    "        \"\"\"\n",
    "        super(ImageCaptioningModel, self).__init__()\n",
    "        self.encoder = encoder\n",
    "        self.decoder = decoder\n",
    "\n",
    "    def forward(self, images, captions, lengths):\n",
    "        \"\"\"\n",
    "        Forward pass of the Image Captioning Model.\n",
    "        \n",
    "        Parameters:\n",
    "        - images (torch.Tensor): Batch of input images.\n",
    "        - captions (torch.Tensor): Batch of captions corresponding to the images.\n",
    "        - lengths (list): Lengths of the captions in the batch.\n",
    "        \n",
    "        Returns:\n",
    "        - outputs (torch.Tensor): The predicted captions for the images.\n",
    "        \"\"\"\n",
    "        # Encode the images to get the features\n",
    "        features = self.encoder(images)\n",
    "        \n",
    "        # Decode the features to get the captions\n",
    "        outputs = self.decoder(features, captions, lengths)\n",
    "        return outputs\n",
    "\n",
    "    def sample(self, images, states=None, max_seq_length=20):\n",
    "        \"\"\"\n",
    "        Generate captions for the given images using greedy search.\n",
    "        \n",
    "        Parameters:\n",
    "        - images (torch.Tensor): Batch of input images.\n",
    "        - states (tuple): Initial states for the decoder RNN.\n",
    "        - max_seq_length (int): Maximum sequence length of the captions.\n",
    "        \n",
    "        Returns:\n",
    "        - sampled_ids (list): The generated word indices for the captions.\n",
    "        \"\"\"\n",
    "        # Encode the images to get the features\n",
    "        features = self.encoder(images)\n",
    "        sampled_ids = []\n",
    "        inputs = features.unsqueeze(1)\n",
    "        \n",
    "        for i in range(max_seq_length):\n",
    "            # Generate the next word\n",
    "            hiddens, states = self.decoder.rnn(inputs, states)\n",
    "            outputs = self.decoder.out(hiddens.squeeze(1))\n",
    "            # Greedy search: select the word with highest probability\n",
    "            _, predicted = outputs.max(1)\n",
    "            sampled_ids.append(predicted)\n",
    "            # Prepare the next input\n",
    "            inputs = self.decoder.embedding(predicted)\n",
    "            inputs = inputs.unsqueeze(1)\n",
    "        \n",
    "        # Stack the predicted indices\n",
    "        sampled_ids = torch.stack(sampled_ids, 1)\n",
    "        return sampled_ids\n"
   ]
  },
  {
   "cell_type": "code",
   "execution_count": 12,
   "metadata": {},
   "outputs": [],
   "source": [
    "class Trainer:\n",
    "    def __init__(self, model, optimizer, criterion, device, vocab):\n",
    "        self.model = model.to(device)\n",
    "        self.optimizer = optimizer\n",
    "        self.criterion = criterion\n",
    "        self.device = device\n",
    "        self.vocab = vocab  # Include the vocabulary in the trainer\n",
    "\n",
    "    def train(self, data_loader, epochs):\n",
    "        self.model.train()\n",
    "        for epoch in range(epochs):\n",
    "            total_loss = 0\n",
    "            with tqdm(data_loader, desc=f\"Epoch {epoch+1}/{epochs}\", unit=\"batch\") as t_batch:\n",
    "                for images, captions in t_batch:\n",
    "                    # Tokenize and numericalize captions\n",
    "                    captions = [self.vocab.tokenize(cap) for cap in captions]\n",
    "                    captions = [self.vocab.numericalize(cap) for cap in captions]\n",
    "                    # Calculate lengths and pad captions\n",
    "                    lengths = [len(cap) for cap in captions]\n",
    "                    # Sort captions and lengths in descending order of lengths\n",
    "                    lengths, sort_idx = torch.tensor(lengths).sort(0, descending=True)\n",
    "                    captions = [captions[i] for i in sort_idx]\n",
    "                    images = images[sort_idx]\n",
    "                    # Pad captions after sorting\n",
    "                    captions = pad_sequence([torch.tensor(cap) for cap in captions],\n",
    "                                            batch_first=True, padding_value=self.vocab.stoi[\"<PAD>\"])\n",
    "                    images, captions = images.to(self.device), captions.to(self.device)\n",
    "                    lengths = lengths.to(self.device)\n",
    "                    self.optimizer.zero_grad()\n",
    "                    # Unpack the tuple returned by the model if it returns more than one output\n",
    "                    outputs = self.model(images, captions[:, :-1], lengths)[0]\n",
    "                    # Calculate loss\n",
    "                    targets = pack_padded_sequence(captions[:, 1:], lengths, batch_first=True).data\n",
    "\n",
    "\n",
    "\n",
    "                    # Ensure the outputs tensor is the correct shape for calculating loss\n",
    "                    outputs = outputs.reshape(-1, outputs.shape[2])\n",
    "                    # print outputs.shape, targets.shape\n",
    "                    if outputs.shape[0] < targets.shape[0]:\n",
    "                        targets = targets[:outputs.shape[0]]\n",
    "                    else:\n",
    "                        outputs = outputs[:targets.shape[0]]\n",
    "\n",
    "                    print(outputs.shape, targets.shape)\n",
    "\n",
    "                    loss = self.criterion(outputs, targets)\n",
    "                    loss.backward()\n",
    "                    self.optimizer.step()\n",
    "                    # Update total loss\n",
    "                    total_loss += loss.item()\n",
    "                    t_batch.set_postfix(loss=total_loss / (t_batch.n + 1))\n",
    "            # Print average loss for the epoch\n",
    "            avg_loss = total_loss / len(data_loader)\n",
    "            print(f'Epoch {epoch+1}/{epochs}, Loss: {avg_loss:.4f}')\n"
   ]
  },
  {
   "cell_type": "code",
   "execution_count": 13,
   "metadata": {},
   "outputs": [],
   "source": [
    "class Evaluator:\n",
    "    def __init__(self, model, device, vocab):\n",
    "        self.model = model.to(device)\n",
    "        self.device = device\n",
    "        self.vocab = vocab\n",
    "\n",
    "    def evaluate(self, data_loader):\n",
    "        self.model.eval()\n",
    "        references = []\n",
    "        hypotheses = []\n",
    "        with torch.no_grad():\n",
    "            for images, captions, lengths in data_loader:\n",
    "                images = images.to(self.device)\n",
    "                # Generate captions using the model\n",
    "                outputs = self.model.sample(images)\n",
    "                # Convert word indices to words\n",
    "                for i in range(images.size(0)):\n",
    "                    # References\n",
    "                    img_captions = [captions[j][i].tolist() for j in range(len(captions))]\n",
    "                    img_captions = list(map(lambda c: [w for w in c if w not in {self.vocab.stoi['<SOS>'], self.vocab.stoi['<EOS>'], self.vocab.stoi['<PAD>']}], img_captions))\n",
    "                    references.append(img_captions)\n",
    "                    # Hypotheses\n",
    "                    hypothesis = outputs[i].tolist()\n",
    "                    hypothesis = [w for w in hypothesis if w not in {self.vocab.stoi['<SOS>'], self.vocab.stoi['<EOS>'], self.vocab.stoi['<PAD>']}]\n",
    "                    hypotheses.append(hypothesis)\n",
    "\n",
    "        # Calculate BLEU scores\n",
    "        bleu1 = corpus_bleu(references, hypotheses, weights=(1, 0, 0, 0), smoothing_function=SmoothingFunction().method1)\n",
    "        bleu2 = corpus_bleu(references, hypotheses, weights=(0.5, 0.5, 0, 0), smoothing_function=SmoothingFunction().method1)\n",
    "        bleu3 = corpus_bleu(references, hypotheses, weights=(0.33, 0.33, 0.33, 0), smoothing_function=SmoothingFunction().method1)\n",
    "        bleu4 = corpus_bleu(references, hypotheses, weights=(0.25, 0.25, 0.25, 0.25), smoothing_function=SmoothingFunction().method1)\n",
    "\n",
    "        return {'BLEU-1': bleu1, 'BLEU-2': bleu2, 'BLEU-3': bleu3, 'BLEU-4': bleu4}\n"
   ]
  },
  {
   "cell_type": "code",
   "execution_count": null,
   "metadata": {},
   "outputs": [],
   "source": []
  },
  {
   "cell_type": "code",
   "execution_count": null,
   "metadata": {},
   "outputs": [],
   "source": []
  },
  {
   "cell_type": "code",
   "execution_count": 14,
   "metadata": {},
   "outputs": [],
   "source": [
    "# Define the hyperparameters\n",
    "num_clusters = 2\n",
    "dim = 512\n",
    "input_size = num_clusters * dim\n",
    "hidden_size = 512\n",
    "# vocab_size = 10000\n",
    "freq_threshold = 1\n",
    "num_epochs = 10\n",
    "batch_size = 32\n",
    "learning_rate = 0.001\n"
   ]
  },
  {
   "cell_type": "code",
   "execution_count": 15,
   "metadata": {},
   "outputs": [],
   "source": [
    "# Load the dataset and create data loaders\n",
    "transform = transforms.Compose([\n",
    "    transforms.Resize((224, 224)),\n",
    "    transforms.ToTensor(),\n",
    "    transforms.Normalize(mean=[0.485, 0.456, 0.406], std=[0.229, 0.224, 0.225]),\n",
    "])\n",
    "\n",
    "train_dataset = ImageCaptioningDataset(\n",
    "    'dataset/captioning', 'dataset/captioning/captions.txt', 'dataset/captioning/image_names.txt',\n",
    "    transform=transform, split='train')\n",
    "train_loader = DataLoader(train_dataset, batch_size=batch_size, shuffle=True)\n",
    "\n",
    "test_dataset = ImageCaptioningDataset(\n",
    "    'dataset/captioning', 'dataset/captioning/captions.txt', 'dataset/captioning/image_names.txt',\n",
    "    transform=transform, split='test')\n",
    "test_loader = DataLoader(test_dataset, batch_size=batch_size, shuffle=False)\n"
   ]
  },
  {
   "cell_type": "code",
   "execution_count": 16,
   "metadata": {},
   "outputs": [
    {
     "name": "stderr",
     "output_type": "stream",
     "text": [
      "Clipping input data to the valid range for imshow with RGB data ([0..1] for floats or [0..255] for integers).\n"
     ]
    },
    {
     "data": {
      "image/png": "[encoded data removed]",
      "text/plain": [
       "<Figure size 432x288 with 1 Axes>"
      ]
     },
     "metadata": {
      "needs_background": "light"
     },
     "output_type": "display_data"
    },
    {
     "name": "stdout",
     "output_type": "stream",
     "text": [
      "One dog is chasing another one on the beach .\n"
     ]
    }
   ],
   "source": [
    "# show an example image and caption\n",
    "image, caption = train_dataset[122]\n",
    "plt.imshow(image.permute(1, 2, 0))\n",
    "plt.axis('off')\n",
    "plt.show()\n",
    "print(caption)\n"
   ]
  },
  {
   "cell_type": "code",
   "execution_count": 17,
   "metadata": {},
   "outputs": [
    {
     "name": "stdout",
     "output_type": "stream",
     "text": [
      "Vocabulary size: 6459\n"
     ]
    }
   ],
   "source": [
    "# Build the vocabulary\n",
    "vocab = Vocabulary(freq_threshold=1)\n",
    "# captions = []\n",
    "# for _, caption in tqdm(train_dataset):\n",
    "#     captions.append(vocab.tokenize(caption))\n",
    "\n",
    "# vocab.build_vocabulary(captions)\n",
    "\n",
    "# # save the vocabulary\n",
    "# torch.save(vocab, 'models/Q3/vocab_1.pth')\n",
    "\n",
    "# Load the vocabulary\n",
    "vocab = torch.load('models/Q3/vocab_1.pth')\n",
    "vocab_size = len(vocab.stoi)\n",
    "print(f'Vocabulary size: {vocab_size}')\n"
   ]
  },
  {
   "cell_type": "code",
   "execution_count": 18,
   "metadata": {},
   "outputs": [
    {
     "name": "stderr",
     "output_type": "stream",
     "text": [
      "Epoch 1/10:   0%|          | 0/625 [00:00<?, ?batch/s]"
     ]
    },
    {
     "name": "stdout",
     "output_type": "stream",
     "text": [
      "torch.Size([420, 6459]) torch.Size([420])\n"
     ]
    },
    {
     "name": "stderr",
     "output_type": "stream",
     "text": [
      "Epoch 1/10:   0%|          | 1/625 [00:08<1:30:51,  8.74s/batch, loss=8.81]"
     ]
    },
    {
     "name": "stdout",
     "output_type": "stream",
     "text": [
      "torch.Size([352, 6459]) torch.Size([352])\n"
     ]
    },
    {
     "name": "stderr",
     "output_type": "stream",
     "text": [
      "Epoch 1/10:   0%|          | 2/625 [00:16<1:25:10,  8.20s/batch, loss=8.77]"
     ]
    },
    {
     "name": "stdout",
     "output_type": "stream",
     "text": [
      "torch.Size([400, 6459]) torch.Size([400])\n"
     ]
    },
    {
     "name": "stderr",
     "output_type": "stream",
     "text": [
      "Epoch 1/10:   0%|          | 3/625 [00:25<1:29:22,  8.62s/batch, loss=8.74]"
     ]
    },
    {
     "name": "stdout",
     "output_type": "stream",
     "text": [
      "torch.Size([390, 6459]) torch.Size([390])\n"
     ]
    },
    {
     "name": "stderr",
     "output_type": "stream",
     "text": [
      "Epoch 1/10:   1%|          | 4/625 [00:37<1:43:10,  9.97s/batch, loss=8.68]"
     ]
    },
    {
     "name": "stdout",
     "output_type": "stream",
     "text": [
      "torch.Size([371, 6459]) torch.Size([371])\n"
     ]
    },
    {
     "name": "stderr",
     "output_type": "stream",
     "text": [
      "Epoch 1/10:   1%|          | 5/625 [00:46<1:40:19,  9.71s/batch, loss=8.63]"
     ]
    },
    {
     "name": "stdout",
     "output_type": "stream",
     "text": [
      "torch.Size([395, 6459]) torch.Size([395])\n"
     ]
    },
    {
     "name": "stderr",
     "output_type": "stream",
     "text": [
      "Epoch 1/10:   1%|          | 6/625 [00:55<1:34:31,  9.16s/batch, loss=8.56]"
     ]
    },
    {
     "name": "stdout",
     "output_type": "stream",
     "text": [
      "torch.Size([357, 6459]) torch.Size([357])\n"
     ]
    },
    {
     "name": "stderr",
     "output_type": "stream",
     "text": [
      "Epoch 1/10:   1%|          | 7/625 [01:03<1:32:19,  8.96s/batch, loss=8.5] "
     ]
    }
   ],
   "source": [
    "# Initialize the encoder and decoder\n",
    "encoder = Encoder(num_clusters=num_clusters, dim=dim)\n",
    "decoder = Decoder(input_size, hidden_size, vocab_size)\n",
    "model = ImageCaptioningModel(encoder, decoder)\n",
    "\n",
    "# Define the optimizer and loss function\n",
    "optimizer = torch.optim.Adam(model.parameters(), lr=learning_rate)\n",
    "criterion = nn.CrossEntropyLoss()\n",
    "\n",
    "# Train the model\n",
    "trainer = Trainer(model, optimizer, criterion, device, vocab)\n",
    "trainer.train(train_loader, num_epochs)\n",
    "\n",
    "# Evaluate the model\n",
    "evaluator = Evaluator(model, device, vocab)\n",
    "scores = evaluator.evaluate(test_loader)\n",
    "print(scores)\n",
    "\n"
   ]
  },
  {
   "cell_type": "code",
   "execution_count": null,
   "metadata": {},
   "outputs": [],
   "source": [
    "\n",
    "# Save the model\n",
    "torch.save(model, 'models/Q3/model.pth')\n",
    "\n",
    "# Load the model\n",
    "model = torch.load('models/Q3/model.pth')\n",
    "model.eval()\n",
    "\n",
    "# Generate captions for a sample image\n",
    "image, caption = test_dataset[0]\n",
    "image = image.unsqueeze(0).to(device)\n",
    "sampled_ids = model.sample(image)\n",
    "sampled_caption = []\n",
    "for word_id in sampled_ids[0]:\n",
    "    word = vocab.itos[word_id]\n",
    "    sampled_caption.append(word)\n",
    "    if word == '<EOS>':\n",
    "        break\n",
    "sampled_caption = ' '.join(sampled_caption)\n",
    "print(sampled_caption)\n",
    "\n",
    "# Display the sample image\n",
    "plt.imshow(image.squeeze(0).permute(1, 2, 0).cpu())\n",
    "plt.axis('off')\n",
    "plt.show()\n",
    "print(caption)\n"
   ]
  }
 ],
 "metadata": {
  "kernelspec": {
   "display_name": "Python 3",
   "language": "python",
   "name": "python3"
  },
  "language_info": {
   "codemirror_mode": {
    "name": "ipython",
    "version": 3
   },
   "file_extension": ".py",
   "mimetype": "text/x-python",
   "name": "python",
   "nbconvert_exporter": "python",
   "pygments_lexer": "ipython3",
   "version": "3.10.2"
  }
 },
 "nbformat": 4,
 "nbformat_minor": 2
}
