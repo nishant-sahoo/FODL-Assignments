{
 "cells": [
  {
   "cell_type": "markdown",
   "metadata": {},
   "source": [
    "**Task 1:** Image classification using a MLFFNN with two hidden layers, and with Deep CNN \n",
    "features for an image as the input to the MLFFNN, with (a) VGGNet as Deep CNN and (b) \n",
    "GoogLeNet as Deep CNN."
   ]
  }
 ],
 "metadata": {
  "language_info": {
   "name": "python"
  }
 },
 "nbformat": 4,
 "nbformat_minor": 2
}
