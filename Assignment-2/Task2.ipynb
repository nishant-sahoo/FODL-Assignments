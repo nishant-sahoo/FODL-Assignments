{
 "cells": [
  {
   "cell_type": "markdown",
   "metadata": {},
   "source": [
    "**Task 2:** Image classification using a CNN with CL1, PL1, CL2 and PL2 as the layers. Use \n",
    "kernels of size 3x3, stride of 1 in the convolutional layers. Use the mean pooling with a \n",
    "kernel size of 2x2 and stride of 2 in the pooling layers. Use 4 feature maps in CL1. The \n",
    "number of feature maps in CL2 is a hyperparameter."
   ]
  }
 ],
 "metadata": {
  "language_info": {
   "name": "python"
  }
 },
 "nbformat": 4,
 "nbformat_minor": 2
}
